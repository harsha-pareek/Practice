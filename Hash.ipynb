{
  "nbformat": 4,
  "nbformat_minor": 0,
  "metadata": {
    "colab": {
      "name": "Untitled1.ipynb",
      "provenance": [],
      "collapsed_sections": [],
      "authorship_tag": "ABX9TyNHabrsX/7SnPVYko1V4fO4",
      "include_colab_link": true
    },
    "kernelspec": {
      "name": "python3",
      "display_name": "Python 3"
    },
    "language_info": {
      "name": "python"
    }
  },
  "cells": [
    {
      "cell_type": "markdown",
      "metadata": {
        "id": "view-in-github",
        "colab_type": "text"
      },
      "source": [
        "<a href=\"https://colab.research.google.com/github/harsha-pareek/Practice/blob/master/Hash.ipynb\" target=\"_parent\"><img src=\"https://colab.research.google.com/assets/colab-badge.svg\" alt=\"Open In Colab\"/></a>"
      ]
    },
    {
      "cell_type": "code",
      "metadata": {
        "id": "j7FEa-wxG9SX"
      },
      "source": [
        "import hashlib"
      ],
      "execution_count": 1,
      "outputs": []
    },
    {
      "cell_type": "code",
      "metadata": {
        "id": "08QTvNOXHPwY"
      },
      "source": [
        "str1=\"Harsha Pareek\"\n",
        "hashedval=hashlib.sha256(str1.encode())"
      ],
      "execution_count": 2,
      "outputs": []
    },
    {
      "cell_type": "code",
      "metadata": {
        "colab": {
          "base_uri": "https://localhost:8080/"
        },
        "id": "RcqPj2ntHSOb",
        "outputId": "4ca4c263-da3f-453d-cfe9-3d221a3381ff"
      },
      "source": [
        "hashedval"
      ],
      "execution_count": 3,
      "outputs": [
        {
          "output_type": "execute_result",
          "data": {
            "text/plain": [
              "<sha256 HASH object @ 0x7f84b9c9c570>"
            ]
          },
          "metadata": {},
          "execution_count": 3
        }
      ]
    },
    {
      "cell_type": "code",
      "metadata": {
        "colab": {
          "base_uri": "https://localhost:8080/",
          "height": 35
        },
        "id": "T8xFLqJ3HUPB",
        "outputId": "a311afa2-6a79-4c0f-8a7a-ed23591e6051"
      },
      "source": [
        "hashedval.hexdigest()"
      ],
      "execution_count": 4,
      "outputs": [
        {
          "output_type": "execute_result",
          "data": {
            "application/vnd.google.colaboratory.intrinsic+json": {
              "type": "string"
            },
            "text/plain": [
              "'7db8ddef3b1b8c750de66da1049d11d848c55486b66035872953a7bf74bbb14c'"
            ]
          },
          "metadata": {},
          "execution_count": 4
        }
      ]
    },
    {
      "cell_type": "code",
      "metadata": {
        "colab": {
          "base_uri": "https://localhost:8080/",
          "height": 35
        },
        "id": "hB297aaEHdHp",
        "outputId": "f8552f89-ae80-49f9-fcfa-8eaccfbcb160"
      },
      "source": [
        "hashedval=hashlib.sha384(str1.encode())\n",
        "hashedval.hexdigest()"
      ],
      "execution_count": 5,
      "outputs": [
        {
          "output_type": "execute_result",
          "data": {
            "application/vnd.google.colaboratory.intrinsic+json": {
              "type": "string"
            },
            "text/plain": [
              "'175a0f96d36a84569f41e242a3ac9bc88fc169a8b9bc3cfbc3aff8db51f71a8c2e68c0d3b8f2a67b411c57a3539d4cba'"
            ]
          },
          "metadata": {},
          "execution_count": 5
        }
      ]
    }
  ]
}